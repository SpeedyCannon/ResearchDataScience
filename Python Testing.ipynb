{
 "cells": [
  {
   "cell_type": "code",
   "execution_count": 1,
   "metadata": {},
   "outputs": [],
   "source": [
    "def count_stair_ways(n):\n",
    "    if n<0:\n",
    "        return 0\n",
    "    if n==0:\n",
    "        return 1\n",
    "    return count_stair_ways(n-1)+count_stair_ways(n-2)"
   ]
  },
  {
   "cell_type": "code",
   "execution_count": 2,
   "metadata": {},
   "outputs": [
    {
     "data": {
      "text/plain": [
       "8"
      ]
     },
     "execution_count": 2,
     "metadata": {},
     "output_type": "execute_result"
    }
   ],
   "source": [
    "count_stair_ways(5)"
   ]
  },
  {
   "cell_type": "code",
   "execution_count": 9,
   "metadata": {},
   "outputs": [],
   "source": [
    "def count_k(n,k):\n",
    "    if n<0:\n",
    "        return 0\n",
    "    if n==0:\n",
    "        return 1\n",
    "    sum=0\n",
    "    for i in range(1,k+1):\n",
    "        sum+=count_k(n-i,k)\n",
    "    return sum"
   ]
  },
  {
   "cell_type": "code",
   "execution_count": 4,
   "metadata": {},
   "outputs": [
    {
     "ename": "NameError",
     "evalue": "name 'count_k' is not defined",
     "output_type": "error",
     "traceback": [
      "\u001b[1;31m---------------------------------------------------------------------------\u001b[0m",
      "\u001b[1;31mNameError\u001b[0m                                 Traceback (most recent call last)",
      "\u001b[1;32m<ipython-input-4-a2904e922a05>\u001b[0m in \u001b[0;36m<module>\u001b[1;34m\u001b[0m\n\u001b[1;32m----> 1\u001b[1;33m \u001b[0mcount_k\u001b[0m\u001b[1;33m(\u001b[0m\u001b[1;36m3\u001b[0m\u001b[1;33m,\u001b[0m\u001b[1;36m3\u001b[0m\u001b[1;33m)\u001b[0m\u001b[1;33m\u001b[0m\u001b[1;33m\u001b[0m\u001b[0m\n\u001b[0m",
      "\u001b[1;31mNameError\u001b[0m: name 'count_k' is not defined"
     ]
    }
   ],
   "source": [
    "count_k(3,3)"
   ]
  },
  {
   "cell_type": "code",
   "execution_count": 21,
   "metadata": {},
   "outputs": [],
   "source": [
    "def has_seven(k):\n",
    "    if k==0:\n",
    "        return False\n",
    "    return k%10 == 7 or has_seven(k//10)"
   ]
  },
  {
   "cell_type": "code",
   "execution_count": 19,
   "metadata": {},
   "outputs": [
    {
     "data": {
      "text/plain": [
       "False"
      ]
     },
     "execution_count": 19,
     "metadata": {},
     "output_type": "execute_result"
    }
   ],
   "source": [
    "has_seven(99)"
   ]
  },
  {
   "cell_type": "code",
   "execution_count": 35,
   "metadata": {},
   "outputs": [],
   "source": [
    "def pingpong(n):\n",
    "    return 1+helper(1,n,1)\n",
    "\n",
    "def helper(cur,n,dir):\n",
    "    if cur==n:\n",
    "        return 0\n",
    "    if has_seven(cur) or cur%7==0:\n",
    "        dir=-1*dir\n",
    "    return dir+helper(cur+1,n,dir)\n",
    "    "
   ]
  },
  {
   "cell_type": "code",
   "execution_count": 41,
   "metadata": {},
   "outputs": [
    {
     "data": {
      "text/plain": [
       "1"
      ]
     },
     "execution_count": 41,
     "metadata": {},
     "output_type": "execute_result"
    }
   ],
   "source": [
    "pingpong(71)"
   ]
  },
  {
   "cell_type": "code",
   "execution_count": 58,
   "metadata": {},
   "outputs": [],
   "source": [
    "def pascal(row, column):\n",
    "    if column==0:\n",
    "        return 1\n",
    "    if row<column:\n",
    "        return 0\n",
    "    return pascal(row-1,column-1)+pascal(row-1,column)"
   ]
  },
  {
   "cell_type": "code",
   "execution_count": 6,
   "metadata": {
    "scrolled": true
   },
   "outputs": [],
   "source": [
    "from datascience import *\n",
    "import numpy as np"
   ]
  },
  {
   "cell_type": "code",
   "execution_count": 7,
   "metadata": {},
   "outputs": [
    {
     "data": {
      "text/html": [
       "<table border=\"1\" class=\"dataframe\">\n",
       "    <thead>\n",
       "        <tr>\n",
       "            <th>PRIMARY_KEY</th> <th>STATE</th> <th>YEAR</th> <th>ENROLL</th> <th>TOTAL_REVENUE</th> <th>FEDERAL_REVENUE</th> <th>STATE_REVENUE</th> <th>LOCAL_REVENUE</th> <th>TOTAL_EXPENDITURE</th> <th>INSTRUCTION_EXPENDITURE</th> <th>SUPPORT_SERVICES_EXPENDITURE</th> <th>OTHER_EXPENDITURE</th> <th>CAPITAL_OUTLAY_EXPENDITURE</th> <th>GRADES_PK_G</th> <th>GRADES_KG_G</th> <th>GRADES_4_G</th> <th>GRADES_8_G</th> <th>GRADES_12_G</th> <th>GRADES_1_8_G</th> <th>GRADES_9_12_G</th> <th>GRADES_ALL_G</th> <th>AVG_MATH_4_SCORE</th> <th>AVG_MATH_8_SCORE</th> <th>AVG_READING_4_SCORE</th> <th>AVG_READING_8_SCORE</th>\n",
       "        </tr>\n",
       "    </thead>\n",
       "    <tbody>\n",
       "        <tr>\n",
       "            <td>1992_ALABAMA             </td> <td>ALABAMA             </td> <td>1992</td> <td>nan   </td> <td>2.67888e+06  </td> <td>304177         </td> <td>1.65903e+06  </td> <td>715680       </td> <td>2.6538e+06       </td> <td>1.4817e+06             </td> <td>735036                      </td> <td>nan              </td> <td>174053                    </td> <td>8224       </td> <td>55460      </td> <td>57948     </td> <td>58025     </td> <td>41167      </td> <td>471564      </td> <td>196386       </td> <td>676174      </td> <td>208.328         </td> <td>252.188         </td> <td>207.964            </td> <td>nan                </td>\n",
       "        </tr>\n",
       "        <tr>\n",
       "            <td>1992_ALASKA              </td> <td>ALASKA              </td> <td>1992</td> <td>nan   </td> <td>1.04959e+06  </td> <td>106780         </td> <td>720711       </td> <td>222100       </td> <td>972488           </td> <td>498362                 </td> <td>350902                      </td> <td>nan              </td> <td>37451                     </td> <td>2371       </td> <td>10152      </td> <td>9748      </td> <td>8789      </td> <td>6714       </td> <td>79117       </td> <td>30847        </td> <td>112335      </td> <td>nan             </td> <td>nan             </td> <td>nan                </td> <td>258.86             </td>\n",
       "        </tr>\n",
       "        <tr>\n",
       "            <td>1992_ARIZONA             </td> <td>ARIZONA             </td> <td>1992</td> <td>nan   </td> <td>3.25808e+06  </td> <td>297888         </td> <td>1.36982e+06  </td> <td>1.59038e+06  </td> <td>3.40158e+06      </td> <td>1.43591e+06            </td> <td>1.00773e+06                 </td> <td>nan              </td> <td>609114                    </td> <td>2544       </td> <td>53497      </td> <td>55433     </td> <td>49081     </td> <td>37410      </td> <td>437127      </td> <td>175210       </td> <td>614881      </td> <td>215.254         </td> <td>265.366         </td> <td>206.213            </td> <td>262.17             </td>\n",
       "        </tr>\n",
       "        <tr>\n",
       "            <td>1992_ARKANSAS            </td> <td>ARKANSAS            </td> <td>1992</td> <td>nan   </td> <td>1.71196e+06  </td> <td>178571         </td> <td>958785       </td> <td>574603       </td> <td>1.74302e+06      </td> <td>964323                 </td> <td>483488                      </td> <td>nan              </td> <td>145212                    </td> <td>808        </td> <td>33511      </td> <td>34632     </td> <td>36011     </td> <td>27651      </td> <td>281338      </td> <td>123113       </td> <td>405259      </td> <td>210.206         </td> <td>256.312         </td> <td>208.634            </td> <td>264.62             </td>\n",
       "        </tr>\n",
       "        <tr>\n",
       "            <td>1992_CALIFORNIA          </td> <td>CALIFORNIA          </td> <td>1992</td> <td>nan   </td> <td>2.626e+07    </td> <td>2.07247e+06    </td> <td>1.65465e+07  </td> <td>7.64104e+06  </td> <td>2.71388e+07      </td> <td>1.43589e+07            </td> <td>8.52093e+06                 </td> <td>nan              </td> <td>2.04469e+06               </td> <td>59067      </td> <td>431763     </td> <td>418418    </td> <td>363296    </td> <td>270675     </td> <td>3.28603e+06 </td> <td>1.37201e+06  </td> <td>4.71711e+06 </td> <td>208.399         </td> <td>260.892         </td> <td>196.764            </td> <td>nan                </td>\n",
       "        </tr>\n",
       "        <tr>\n",
       "            <td>1992_COLORADO            </td> <td>COLORADO            </td> <td>1992</td> <td>nan   </td> <td>3.18517e+06  </td> <td>163253         </td> <td>1.30799e+06  </td> <td>1.71393e+06  </td> <td>3.26483e+06      </td> <td>1.64247e+06            </td> <td>1.03597e+06                 </td> <td>nan              </td> <td>364760                    </td> <td>7410       </td> <td>47588      </td> <td>50648     </td> <td>45025     </td> <td>34533      </td> <td>394904      </td> <td>160299       </td> <td>562613      </td> <td>221.023         </td> <td>272.398         </td> <td>213.481            </td> <td>266.42             </td>\n",
       "        </tr>\n",
       "        <tr>\n",
       "            <td>1992_CONNECTICUT         </td> <td>CONNECTICUT         </td> <td>1992</td> <td>nan   </td> <td>3.8343e+06   </td> <td>143542         </td> <td>1.34254e+06  </td> <td>2.34822e+06  </td> <td>3.72134e+06      </td> <td>2.14804e+06            </td> <td>1.1426e+06                  </td> <td>nan              </td> <td>48542                     </td> <td>5731       </td> <td>41319      </td> <td>38058     </td> <td>33691     </td> <td>28366      </td> <td>304284      </td> <td>126917       </td> <td>436932      </td> <td>226.798         </td> <td>273.739         </td> <td>222.418            </td> <td>264.714            </td>\n",
       "        </tr>\n",
       "        <tr>\n",
       "            <td>1992_DELAWARE            </td> <td>DELAWARE            </td> <td>1992</td> <td>nan   </td> <td>645233       </td> <td>45945          </td> <td>420942       </td> <td>178346       </td> <td>638784           </td> <td>372722                 </td> <td>194915                      </td> <td>nan              </td> <td>30595                     </td> <td>463        </td> <td>8025       </td> <td>8272      </td> <td>8012      </td> <td>6129       </td> <td>67495       </td> <td>28338        </td> <td>96296       </td> <td>217.9           </td> <td>262.869         </td> <td>206.389            </td> <td>261.578            </td>\n",
       "        </tr>\n",
       "        <tr>\n",
       "            <td>1992_DISTRICT_OF_COLUMBIA</td> <td>DISTRICT_OF_COLUMBIA</td> <td>1992</td> <td>nan   </td> <td>709480       </td> <td>64749          </td> <td>0            </td> <td>644731       </td> <td>742893           </td> <td>329160                 </td> <td>316679                      </td> <td>nan              </td> <td>47272                     </td> <td>4818       </td> <td>6667       </td> <td>5832      </td> <td>5000      </td> <td>3433       </td> <td>47009       </td> <td>18173        </td> <td>70000       </td> <td>192.601         </td> <td>234.925         </td> <td>178.558            </td> <td>265.977            </td>\n",
       "        </tr>\n",
       "        <tr>\n",
       "            <td>1992_FLORIDA             </td> <td>FLORIDA             </td> <td>1992</td> <td>nan   </td> <td>1.15063e+07  </td> <td>788420         </td> <td>5.68395e+06  </td> <td>5.03393e+06  </td> <td>1.13056e+07      </td> <td>5.16637e+06            </td> <td>3.41044e+06                 </td> <td>nan              </td> <td>1.66783e+06               </td> <td>31464      </td> <td>161701     </td> <td>164416    </td> <td>142372    </td> <td>100835     </td> <td>1.27668e+06 </td> <td>511557       </td> <td>1.81971e+06 </td> <td>213.69          </td> <td>259.909         </td> <td>204.883            </td> <td>262.119            </td>\n",
       "        </tr>\n",
       "    </tbody>\n",
       "</table>\n",
       "<p>... (1482 rows omitted)</p>"
      ],
      "text/plain": [
       "PRIMARY_KEY               | STATE                | YEAR | ENROLL | TOTAL_REVENUE | FEDERAL_REVENUE | STATE_REVENUE | LOCAL_REVENUE | TOTAL_EXPENDITURE | INSTRUCTION_EXPENDITURE | SUPPORT_SERVICES_EXPENDITURE | OTHER_EXPENDITURE | CAPITAL_OUTLAY_EXPENDITURE | GRADES_PK_G | GRADES_KG_G | GRADES_4_G | GRADES_8_G | GRADES_12_G | GRADES_1_8_G | GRADES_9_12_G | GRADES_ALL_G | AVG_MATH_4_SCORE | AVG_MATH_8_SCORE | AVG_READING_4_SCORE | AVG_READING_8_SCORE\n",
       "1992_ALABAMA              | ALABAMA              | 1992 | nan    | 2.67888e+06   | 304177          | 1.65903e+06   | 715680        | 2.6538e+06        | 1.4817e+06              | 735036                       | nan               | 174053                     | 8224        | 55460       | 57948      | 58025      | 41167       | 471564       | 196386        | 676174       | 208.328          | 252.188          | 207.964             | nan\n",
       "1992_ALASKA               | ALASKA               | 1992 | nan    | 1.04959e+06   | 106780          | 720711        | 222100        | 972488            | 498362                  | 350902                       | nan               | 37451                      | 2371        | 10152       | 9748       | 8789       | 6714        | 79117        | 30847         | 112335       | nan              | nan              | nan                 | 258.86\n",
       "1992_ARIZONA              | ARIZONA              | 1992 | nan    | 3.25808e+06   | 297888          | 1.36982e+06   | 1.59038e+06   | 3.40158e+06       | 1.43591e+06             | 1.00773e+06                  | nan               | 609114                     | 2544        | 53497       | 55433      | 49081      | 37410       | 437127       | 175210        | 614881       | 215.254          | 265.366          | 206.213             | 262.17\n",
       "1992_ARKANSAS             | ARKANSAS             | 1992 | nan    | 1.71196e+06   | 178571          | 958785        | 574603        | 1.74302e+06       | 964323                  | 483488                       | nan               | 145212                     | 808         | 33511       | 34632      | 36011      | 27651       | 281338       | 123113        | 405259       | 210.206          | 256.312          | 208.634             | 264.62\n",
       "1992_CALIFORNIA           | CALIFORNIA           | 1992 | nan    | 2.626e+07     | 2.07247e+06     | 1.65465e+07   | 7.64104e+06   | 2.71388e+07       | 1.43589e+07             | 8.52093e+06                  | nan               | 2.04469e+06                | 59067       | 431763      | 418418     | 363296     | 270675      | 3.28603e+06  | 1.37201e+06   | 4.71711e+06  | 208.399          | 260.892          | 196.764             | nan\n",
       "1992_COLORADO             | COLORADO             | 1992 | nan    | 3.18517e+06   | 163253          | 1.30799e+06   | 1.71393e+06   | 3.26483e+06       | 1.64247e+06             | 1.03597e+06                  | nan               | 364760                     | 7410        | 47588       | 50648      | 45025      | 34533       | 394904       | 160299        | 562613       | 221.023          | 272.398          | 213.481             | 266.42\n",
       "1992_CONNECTICUT          | CONNECTICUT          | 1992 | nan    | 3.8343e+06    | 143542          | 1.34254e+06   | 2.34822e+06   | 3.72134e+06       | 2.14804e+06             | 1.1426e+06                   | nan               | 48542                      | 5731        | 41319       | 38058      | 33691      | 28366       | 304284       | 126917        | 436932       | 226.798          | 273.739          | 222.418             | 264.714\n",
       "1992_DELAWARE             | DELAWARE             | 1992 | nan    | 645233        | 45945           | 420942        | 178346        | 638784            | 372722                  | 194915                       | nan               | 30595                      | 463         | 8025        | 8272       | 8012       | 6129        | 67495        | 28338         | 96296        | 217.9            | 262.869          | 206.389             | 261.578\n",
       "1992_DISTRICT_OF_COLUMBIA | DISTRICT_OF_COLUMBIA | 1992 | nan    | 709480        | 64749           | 0             | 644731        | 742893            | 329160                  | 316679                       | nan               | 47272                      | 4818        | 6667        | 5832       | 5000       | 3433        | 47009        | 18173         | 70000        | 192.601          | 234.925          | 178.558             | 265.977\n",
       "1992_FLORIDA              | FLORIDA              | 1992 | nan    | 1.15063e+07   | 788420          | 5.68395e+06   | 5.03393e+06   | 1.13056e+07       | 5.16637e+06             | 3.41044e+06                  | nan               | 1.66783e+06                | 31464       | 161701      | 164416     | 142372     | 100835      | 1.27668e+06  | 511557        | 1.81971e+06  | 213.69           | 259.909          | 204.883             | 262.119\n",
       "... (1482 rows omitted)"
      ]
     },
     "execution_count": 7,
     "metadata": {},
     "output_type": "execute_result"
    }
   ],
   "source": [
    "Table.read_table('states_all.csv')"
   ]
  },
  {
   "cell_type": "code",
   "execution_count": 6,
   "metadata": {},
   "outputs": [],
   "source": [
    "import antigravity"
   ]
  }
 ],
 "metadata": {
  "kernelspec": {
   "display_name": "Python 3",
   "language": "python",
   "name": "python3"
  },
  "language_info": {
   "codemirror_mode": {
    "name": "ipython",
    "version": 3
   },
   "file_extension": ".py",
   "mimetype": "text/x-python",
   "name": "python",
   "nbconvert_exporter": "python",
   "pygments_lexer": "ipython3",
   "version": "3.7.3"
  }
 },
 "nbformat": 4,
 "nbformat_minor": 2
}
