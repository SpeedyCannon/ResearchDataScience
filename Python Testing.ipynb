{
 "cells": [
  {
   "cell_type": "code",
   "execution_count": 29,
   "metadata": {},
   "outputs": [],
   "source": [
    "# occupations=Table.read_table('ses2013.csv')"
   ]
  },
  {
   "cell_type": "code",
   "execution_count": 28,
   "metadata": {},
   "outputs": [],
   "source": [
    "# test_scores=Table.read_table('states_all.csv')"
   ]
  },
  {
   "cell_type": "markdown",
   "metadata": {},
   "source": [
    "The objective was to generalize the gender disparity in computer-related majors relative to all majors"
   ]
  },
  {
   "cell_type": "markdown",
   "metadata": {},
   "source": [
    "<h1>Importing Necessary Tools</h1>\n",
    "<p>The datascience package was used for reading .csv files and creating tables holding those values</p>\n",
    "<p>Numpy was included for array manipulation and basic operations</p>"
   ]
  },
  {
   "cell_type": "code",
   "execution_count": 4,
   "metadata": {
    "scrolled": true
   },
   "outputs": [],
   "source": [
    "from datascience import *\n",
    "import numpy as np"
   ]
  },
  {
   "cell_type": "markdown",
   "metadata": {},
   "source": [
    "<h1> Reading CSV Data</h1>\n",
    "<p>The 'majors_population.csv' file shows data, notably, on population of majors by gender.</p>"
   ]
  },
  {
   "cell_type": "code",
   "execution_count": 5,
   "metadata": {
    "scrolled": true
   },
   "outputs": [
    {
     "data": {
      "text/html": [
       "<table border=\"1\" class=\"dataframe\">\n",
       "    <thead>\n",
       "        <tr>\n",
       "            <th>Rank</th> <th>Major_code</th> <th>Major</th> <th>Major_category</th> <th>Total</th> <th>Men</th> <th>Women</th> <th>ShareWomen</th> <th>Median</th>\n",
       "        </tr>\n",
       "    </thead>\n",
       "    <tbody>\n",
       "        <tr>\n",
       "            <td>1   </td> <td>2419      </td> <td>PETROLEUM ENGINEERING                    </td> <td>Engineering      </td> <td>2339 </td> <td>2057 </td> <td>282  </td> <td>0.120564  </td> <td>110000</td>\n",
       "        </tr>\n",
       "        <tr>\n",
       "            <td>2   </td> <td>2416      </td> <td>MINING AND MINERAL ENGINEERING           </td> <td>Engineering      </td> <td>756  </td> <td>679  </td> <td>77   </td> <td>0.101852  </td> <td>75000 </td>\n",
       "        </tr>\n",
       "        <tr>\n",
       "            <td>3   </td> <td>2415      </td> <td>METALLURGICAL ENGINEERING                </td> <td>Engineering      </td> <td>856  </td> <td>725  </td> <td>131  </td> <td>0.153037  </td> <td>73000 </td>\n",
       "        </tr>\n",
       "        <tr>\n",
       "            <td>4   </td> <td>2417      </td> <td>NAVAL ARCHITECTURE AND MARINE ENGINEERING</td> <td>Engineering      </td> <td>1258 </td> <td>1123 </td> <td>135  </td> <td>0.107313  </td> <td>70000 </td>\n",
       "        </tr>\n",
       "        <tr>\n",
       "            <td>5   </td> <td>2418      </td> <td>NUCLEAR ENGINEERING                      </td> <td>Engineering      </td> <td>2573 </td> <td>2200 </td> <td>373  </td> <td>0.144967  </td> <td>65000 </td>\n",
       "        </tr>\n",
       "        <tr>\n",
       "            <td>6   </td> <td>2405      </td> <td>CHEMICAL ENGINEERING                     </td> <td>Engineering      </td> <td>32260</td> <td>21239</td> <td>11021</td> <td>0.341631  </td> <td>65000 </td>\n",
       "        </tr>\n",
       "        <tr>\n",
       "            <td>7   </td> <td>5001      </td> <td>ASTRONOMY AND ASTROPHYSICS               </td> <td>Physical Sciences</td> <td>1792 </td> <td>832  </td> <td>960  </td> <td>0.535714  </td> <td>62000 </td>\n",
       "        </tr>\n",
       "        <tr>\n",
       "            <td>8   </td> <td>2414      </td> <td>MECHANICAL ENGINEERING                   </td> <td>Engineering      </td> <td>91227</td> <td>80320</td> <td>10907</td> <td>0.119559  </td> <td>60000 </td>\n",
       "        </tr>\n",
       "        <tr>\n",
       "            <td>9   </td> <td>2401      </td> <td>AEROSPACE ENGINEERING                    </td> <td>Engineering      </td> <td>15058</td> <td>12953</td> <td>2105 </td> <td>0.139793  </td> <td>60000 </td>\n",
       "        </tr>\n",
       "        <tr>\n",
       "            <td>10  </td> <td>2408      </td> <td>ELECTRICAL ENGINEERING                   </td> <td>Engineering      </td> <td>81527</td> <td>65511</td> <td>16016</td> <td>0.19645   </td> <td>60000 </td>\n",
       "        </tr>\n",
       "    </tbody>\n",
       "</table>\n",
       "<p>... (66 rows omitted)</p>"
      ],
      "text/plain": [
       "Rank | Major_code | Major                                     | Major_category    | Total | Men   | Women | ShareWomen | Median\n",
       "1    | 2419       | PETROLEUM ENGINEERING                     | Engineering       | 2339  | 2057  | 282   | 0.120564   | 110000\n",
       "2    | 2416       | MINING AND MINERAL ENGINEERING            | Engineering       | 756   | 679   | 77    | 0.101852   | 75000\n",
       "3    | 2415       | METALLURGICAL ENGINEERING                 | Engineering       | 856   | 725   | 131   | 0.153037   | 73000\n",
       "4    | 2417       | NAVAL ARCHITECTURE AND MARINE ENGINEERING | Engineering       | 1258  | 1123  | 135   | 0.107313   | 70000\n",
       "5    | 2418       | NUCLEAR ENGINEERING                       | Engineering       | 2573  | 2200  | 373   | 0.144967   | 65000\n",
       "6    | 2405       | CHEMICAL ENGINEERING                      | Engineering       | 32260 | 21239 | 11021 | 0.341631   | 65000\n",
       "7    | 5001       | ASTRONOMY AND ASTROPHYSICS                | Physical Sciences | 1792  | 832   | 960   | 0.535714   | 62000\n",
       "8    | 2414       | MECHANICAL ENGINEERING                    | Engineering       | 91227 | 80320 | 10907 | 0.119559   | 60000\n",
       "9    | 2401       | AEROSPACE ENGINEERING                     | Engineering       | 15058 | 12953 | 2105  | 0.139793   | 60000\n",
       "10   | 2408       | ELECTRICAL ENGINEERING                    | Engineering       | 81527 | 65511 | 16016 | 0.19645    | 60000\n",
       "... (66 rows omitted)"
      ]
     },
     "execution_count": 5,
     "metadata": {},
     "output_type": "execute_result"
    }
   ],
   "source": [
    "major_data=Table.read_table('majors_population.csv')\n",
    "major_data"
   ]
  },
  {
   "cell_type": "markdown",
   "metadata": {},
   "source": [
    "I extracted the list of majors just for reference in 'major_list', as shown below"
   ]
  },
  {
   "cell_type": "code",
   "execution_count": 6,
   "metadata": {
    "scrolled": true
   },
   "outputs": [
    {
     "data": {
      "text/plain": [
       "array(['AEROSPACE ENGINEERING', 'APPLIED MATHEMATICS',\n",
       "       'ARCHITECTURAL ENGINEERING', 'ARCHITECTURE',\n",
       "       'ASTRONOMY AND ASTROPHYSICS',\n",
       "       'ATMOSPHERIC SCIENCES AND METEOROLOGY', 'BIOCHEMICAL SCIENCES',\n",
       "       'BIOLOGICAL ENGINEERING', 'BIOLOGY', 'BIOMEDICAL ENGINEERING',\n",
       "       'BOTANY', 'CHEMICAL ENGINEERING', 'CHEMISTRY', 'CIVIL ENGINEERING',\n",
       "       'COGNITIVE SCIENCE AND BIOPSYCHOLOGY',\n",
       "       'COMMUNICATION DISORDERS SCIENCES AND SERVICES',\n",
       "       'COMMUNICATION TECHNOLOGIES', 'COMMUNITY AND PUBLIC HEALTH',\n",
       "       'COMPUTER ADMINISTRATION MANAGEMENT AND SECURITY',\n",
       "       'COMPUTER AND INFORMATION SYSTEMS', 'COMPUTER ENGINEERING',\n",
       "       'COMPUTER NETWORKING AND TELECOMMUNICATIONS',\n",
       "       'COMPUTER PROGRAMMING AND DATA PROCESSING', 'COMPUTER SCIENCE',\n",
       "       'ECOLOGY', 'ELECTRICAL ENGINEERING',\n",
       "       'ELECTRICAL ENGINEERING TECHNOLOGY',\n",
       "       'ENGINEERING AND INDUSTRIAL MANAGEMENT',\n",
       "       'ENGINEERING MECHANICS PHYSICS AND SCIENCE',\n",
       "       'ENGINEERING TECHNOLOGIES', 'ENVIRONMENTAL ENGINEERING',\n",
       "       'ENVIRONMENTAL SCIENCE', 'GENERAL ENGINEERING',\n",
       "       'GENERAL MEDICAL AND HEALTH SERVICES', 'GENETICS',\n",
       "       'GEOLOGICAL AND GEOPHYSICAL ENGINEERING',\n",
       "       'GEOLOGY AND EARTH SCIENCE', 'GEOSCIENCES',\n",
       "       'HEALTH AND MEDICAL ADMINISTRATIVE SERVICES',\n",
       "       'HEALTH AND MEDICAL PREPARATORY PROGRAMS',\n",
       "       'INDUSTRIAL AND MANUFACTURING ENGINEERING',\n",
       "       'INDUSTRIAL PRODUCTION TECHNOLOGIES', 'INFORMATION SCIENCES',\n",
       "       'MATERIALS ENGINEERING AND MATERIALS SCIENCE', 'MATERIALS SCIENCE',\n",
       "       'MATHEMATICS', 'MATHEMATICS AND COMPUTER SCIENCE',\n",
       "       'MECHANICAL ENGINEERING',\n",
       "       'MECHANICAL ENGINEERING RELATED TECHNOLOGIES',\n",
       "       'MEDICAL ASSISTING SERVICES', 'MEDICAL TECHNOLOGIES TECHNICIANS',\n",
       "       'METALLURGICAL ENGINEERING', 'MICROBIOLOGY',\n",
       "       'MINING AND MINERAL ENGINEERING', 'MISCELLANEOUS BIOLOGY',\n",
       "       'MISCELLANEOUS ENGINEERING',\n",
       "       'MISCELLANEOUS ENGINEERING TECHNOLOGIES',\n",
       "       'MISCELLANEOUS HEALTH MEDICAL PROFESSIONS', 'MOLECULAR BIOLOGY',\n",
       "       'MULTI-DISCIPLINARY OR GENERAL SCIENCE',\n",
       "       'NAVAL ARCHITECTURE AND MARINE ENGINEERING', 'NEUROSCIENCE',\n",
       "       'NUCLEAR ENGINEERING',\n",
       "       'NUCLEAR, INDUSTRIAL RADIOLOGY, AND BIOLOGICAL TECHNOLOGIES',\n",
       "       'NURSING', 'NUTRITION SCIENCES', 'OCEANOGRAPHY',\n",
       "       'PETROLEUM ENGINEERING', 'PHARMACOLOGY',\n",
       "       'PHARMACY PHARMACEUTICAL SCIENCES AND ADMINISTRATION',\n",
       "       'PHYSICAL SCIENCES', 'PHYSICS', 'PHYSIOLOGY',\n",
       "       'STATISTICS AND DECISION SCIENCE', 'TREATMENT THERAPY PROFESSIONS',\n",
       "       'ZOOLOGY'], dtype='<U58')"
      ]
     },
     "execution_count": 6,
     "metadata": {},
     "output_type": "execute_result"
    }
   ],
   "source": [
    "major_list=np.unique(major_data.column('Major'))\n",
    "major_list"
   ]
  },
  {
   "cell_type": "markdown",
   "metadata": {},
   "source": [
    "<h1>Data Selection</h1>\n",
    "<p>I selected for the majors that have the keyword \"COMPUTER\" in their titles to select only for majors related to computer science</p>"
   ]
  },
  {
   "cell_type": "code",
   "execution_count": 9,
   "metadata": {},
   "outputs": [
    {
     "data": {
      "text/html": [
       "<table border=\"1\" class=\"dataframe\">\n",
       "    <thead>\n",
       "        <tr>\n",
       "            <th>Rank</th> <th>Major_code</th> <th>Major</th> <th>Major_category</th> <th>Total</th> <th>Men</th> <th>Women</th> <th>ShareWomen</th> <th>Median</th>\n",
       "        </tr>\n",
       "    </thead>\n",
       "    <tbody>\n",
       "        <tr>\n",
       "            <td>11  </td> <td>2407      </td> <td>COMPUTER ENGINEERING                           </td> <td>Engineering            </td> <td>41542 </td> <td>33258</td> <td>8284 </td> <td>0.199413  </td> <td>60000 </td>\n",
       "        </tr>\n",
       "        <tr>\n",
       "            <td>19  </td> <td>2102      </td> <td>COMPUTER SCIENCE                               </td> <td>Computers & Mathematics</td> <td>128319</td> <td>99743</td> <td>28576</td> <td>0.222695  </td> <td>53000 </td>\n",
       "        </tr>\n",
       "        <tr>\n",
       "            <td>31  </td> <td>2100      </td> <td>COMPUTER AND INFORMATION SYSTEMS               </td> <td>Computers & Mathematics</td> <td>36698 </td> <td>27392</td> <td>9306 </td> <td>0.253583  </td> <td>45000 </td>\n",
       "        </tr>\n",
       "        <tr>\n",
       "            <td>40  </td> <td>4005      </td> <td>MATHEMATICS AND COMPUTER SCIENCE               </td> <td>Computers & Mathematics</td> <td>609   </td> <td>500  </td> <td>109  </td> <td>0.178982  </td> <td>42000 </td>\n",
       "        </tr>\n",
       "        <tr>\n",
       "            <td>42  </td> <td>2101      </td> <td>COMPUTER PROGRAMMING AND DATA PROCESSING       </td> <td>Computers & Mathematics</td> <td>4168  </td> <td>3046 </td> <td>1122 </td> <td>0.269194  </td> <td>41300 </td>\n",
       "        </tr>\n",
       "        <tr>\n",
       "            <td>53  </td> <td>2106      </td> <td>COMPUTER ADMINISTRATION MANAGEMENT AND SECURITY</td> <td>Computers & Mathematics</td> <td>8066  </td> <td>6607 </td> <td>1459 </td> <td>0.180883  </td> <td>37500 </td>\n",
       "        </tr>\n",
       "        <tr>\n",
       "            <td>56  </td> <td>2107      </td> <td>COMPUTER NETWORKING AND TELECOMMUNICATIONS     </td> <td>Computers & Mathematics</td> <td>7613  </td> <td>5291 </td> <td>2322 </td> <td>0.305005  </td> <td>36400 </td>\n",
       "        </tr>\n",
       "    </tbody>\n",
       "</table>"
      ],
      "text/plain": [
       "Rank | Major_code | Major                                           | Major_category          | Total  | Men   | Women | ShareWomen | Median\n",
       "11   | 2407       | COMPUTER ENGINEERING                            | Engineering             | 41542  | 33258 | 8284  | 0.199413   | 60000\n",
       "19   | 2102       | COMPUTER SCIENCE                                | Computers & Mathematics | 128319 | 99743 | 28576 | 0.222695   | 53000\n",
       "31   | 2100       | COMPUTER AND INFORMATION SYSTEMS                | Computers & Mathematics | 36698  | 27392 | 9306  | 0.253583   | 45000\n",
       "40   | 4005       | MATHEMATICS AND COMPUTER SCIENCE                | Computers & Mathematics | 609    | 500   | 109   | 0.178982   | 42000\n",
       "42   | 2101       | COMPUTER PROGRAMMING AND DATA PROCESSING        | Computers & Mathematics | 4168   | 3046  | 1122  | 0.269194   | 41300\n",
       "53   | 2106       | COMPUTER ADMINISTRATION MANAGEMENT AND SECURITY | Computers & Mathematics | 8066   | 6607  | 1459  | 0.180883   | 37500\n",
       "56   | 2107       | COMPUTER NETWORKING AND TELECOMMUNICATIONS      | Computers & Mathematics | 7613   | 5291  | 2322  | 0.305005   | 36400"
      ]
     },
     "execution_count": 9,
     "metadata": {},
     "output_type": "execute_result"
    }
   ],
   "source": [
    "cs_major_data=major_data.where('Major',are.containing(\"COMPUTER\"))\n",
    "cs_major_data"
   ]
  },
  {
   "cell_type": "markdown",
   "metadata": {},
   "source": [
    "<p>As shown above, searching for \"COMPUTER\" in the title yielded 7 majors out of 76 total majors.</p>"
   ]
  },
  {
   "cell_type": "markdown",
   "metadata": {},
   "source": [
    "<h1>Data Analysis and Visualization</h1>\n",
    "<p></p>"
   ]
  },
  {
   "cell_type": "code",
   "execution_count": 33,
   "metadata": {},
   "outputs": [
    {
     "data": {
      "text/plain": [
       "NoneType"
      ]
     },
     "execution_count": 33,
     "metadata": {},
     "output_type": "execute_result"
    }
   ],
   "source": [
    "cs_majors_table=cs_major_data.select(2,4,5,6)\n",
    "cs_majors_table.barh('Major')"
   ]
  },
  {
   "cell_type": "code",
   "execution_count": 29,
   "metadata": {},
   "outputs": [
    {
     "data": {
      "text/plain": [
       "str"
      ]
     },
     "execution_count": 29,
     "metadata": {},
     "output_type": "execute_result"
    }
   ],
   "source": [
    "type(cs_majors_table.column('Major').item(0))"
   ]
  }
 ],
 "metadata": {
  "kernelspec": {
   "display_name": "Python 3",
   "language": "python",
   "name": "python3"
  },
  "language_info": {
   "codemirror_mode": {
    "name": "ipython",
    "version": 3
   },
   "file_extension": ".py",
   "mimetype": "text/x-python",
   "name": "python",
   "nbconvert_exporter": "python",
   "pygments_lexer": "ipython3",
   "version": "3.7.3"
  }
 },
 "nbformat": 4,
 "nbformat_minor": 2
}
